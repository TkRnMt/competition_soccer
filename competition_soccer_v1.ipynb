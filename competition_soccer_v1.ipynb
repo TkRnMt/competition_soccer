{
 "cells": [
  {
   "cell_type": "code",
   "execution_count": 1,
   "metadata": {
    "collapsed": true
   },
   "outputs": [],
   "source": [
    "# Import library and data\n",
    "import numpy as np\n",
    "import pandas as pd\n",
    "import matplotlib.pyplot as plt\n",
    "% matplotlib inline\n",
    "df_train_r = pd.read_csv('train.csv')\n",
    "df_train_add_r = pd.read_csv('train_add.csv')\n",
    "df_condition_r = pd.read_csv('condition.csv')\n",
    "df_condition_add_r = pd.read_csv('condition_add.csv')"
   ]
  },
  {
   "cell_type": "code",
   "execution_count": 2,
   "metadata": {
    "collapsed": true
   },
   "outputs": [],
   "source": [
    "# Concatnate train and condition data\n",
    "df_train = pd.concat([df_train_r, df_train_add_r], axis=0)\n",
    "df_condition = pd.concat([df_condition_r, df_condition_add_r], axis=0)"
   ]
  },
  {
   "cell_type": "code",
   "execution_count": 3,
   "metadata": {
    "collapsed": true,
    "scrolled": false
   },
   "outputs": [],
   "source": [
    "# Combine df_train with df_stadium_r and df_condition_r\n",
    "df_stadium_r = pd.read_csv('stadium.csv')\n",
    "df_train = pd.merge(df_train, df_stadium_r, how='left', left_on='stadium', right_on='name')\n",
    "df_train = df_train.sort_values(by='id', ascending=True).reset_index(drop=True) # sort by 'id' and reset index (drop=False means old index will be kept as a new column)\n",
    "df_train = df_train.drop(['name'], axis=1)\n",
    "df_train = pd.merge(df_train, df_condition, how='left', on='id')"
   ]
  },
  {
   "cell_type": "code",
   "execution_count": 4,
   "metadata": {
    "scrolled": true
   },
   "outputs": [
    {
     "data": {
      "text/plain": [
       "Index(['id', 'y', 'year', 'stage', 'match', 'gameday', 'time', 'home', 'away',\n",
       "       'stadium', 'tv', 'address', 'capa', 'home_score', 'away_score',\n",
       "       'weather', 'temperature', 'humidity', 'referee', 'home_team', 'home_01',\n",
       "       'home_02', 'home_03', 'home_04', 'home_05', 'home_06', 'home_07',\n",
       "       'home_08', 'home_09', 'home_10', 'home_11', 'away_team', 'away_01',\n",
       "       'away_02', 'away_03', 'away_04', 'away_05', 'away_06', 'away_07',\n",
       "       'away_08', 'away_09', 'away_10', 'away_11'],\n",
       "      dtype='object')"
      ]
     },
     "execution_count": 4,
     "metadata": {},
     "output_type": "execute_result"
    }
   ],
   "source": [
    "df_train.columns"
   ]
  },
  {
   "cell_type": "code",
   "execution_count": 5,
   "metadata": {},
   "outputs": [
    {
     "data": {
      "text/plain": [
       "0    14:04\n",
       "1    14:04\n",
       "2    14:04\n",
       "3    14:06\n",
       "4    14:04\n",
       "Name: time, dtype: object"
      ]
     },
     "execution_count": 5,
     "metadata": {},
     "output_type": "execute_result"
    }
   ],
   "source": [
    "df_train['time'].head()"
   ]
  },
  {
   "cell_type": "markdown",
   "metadata": {},
   "source": [
    "1. year\n",
    "convert 2012, 2013, and 2014 into 0, 1, and 2\n",
    "2. stage\n",
    "J1, J2 into 0, and 1\n",
    "3. match\n",
    "第n節第m日 ino n using .split()\n",
    "caculate n/max(n)\n",
    "4. gameday\n",
    "03/14(土) -> month and weekday or not\n",
    "5. time\n",
    "14:05 -> worktime(~17:00) into 0, not into 1\n",
    "6. capa\n",
    "divide y by capa -> change problem into expection of filled percentage"
   ]
  },
  {
   "cell_type": "markdown",
   "metadata": {},
   "source": [
    "Match"
   ]
  },
  {
   "cell_type": "code",
   "execution_count": 6,
   "metadata": {
    "collapsed": true
   },
   "outputs": [],
   "source": [
    "# extract match number data from 'match'\n",
    "X_match = df_train.loc[:, ['match']].values\n",
    "X_match_num = np.zeros(X_match.size)\n",
    "for i in range(0,len(X_match),1):\n",
    "    temp = X_match[i,0].split('節')\n",
    "    temp_2 = temp[0].split('第')\n",
    "    X_match_num[i] = int(temp_2[1])"
   ]
  },
  {
   "cell_type": "code",
   "execution_count": 7,
   "metadata": {},
   "outputs": [
    {
     "data": {
      "text/plain": [
       "0    1.0\n",
       "1    1.0\n",
       "2    1.0\n",
       "3    1.0\n",
       "4    1.0\n",
       "5    1.0\n",
       "Name: match, dtype: float64"
      ]
     },
     "execution_count": 7,
     "metadata": {},
     "output_type": "execute_result"
    }
   ],
   "source": [
    "X_match_num.reshape(-1,1)\n",
    "df_train.loc[:,['match']] = X_match_num\n",
    "df_train.loc[:5, 'match']"
   ]
  },
  {
   "cell_type": "markdown",
   "metadata": {},
   "source": [
    "Year"
   ]
  },
  {
   "cell_type": "code",
   "execution_count": 8,
   "metadata": {
    "collapsed": true
   },
   "outputs": [],
   "source": [
    "# using .map method, convert year into year number\n",
    "year_num = {2012: 0, 2013: 1, 2014: 2}\n",
    "df_train['year'] = df_train['year'].map(year_num)"
   ]
  },
  {
   "cell_type": "code",
   "execution_count": 9,
   "metadata": {},
   "outputs": [
    {
     "data": {
      "text/plain": [
       "0    0\n",
       "1    0\n",
       "2    0\n",
       "3    0\n",
       "4    0\n",
       "Name: year, dtype: int64"
      ]
     },
     "execution_count": 9,
     "metadata": {},
     "output_type": "execute_result"
    }
   ],
   "source": [
    "df_train['year'].head()"
   ]
  },
  {
   "cell_type": "markdown",
   "metadata": {},
   "source": [
    "Stage"
   ]
  },
  {
   "cell_type": "code",
   "execution_count": 10,
   "metadata": {},
   "outputs": [
    {
     "data": {
      "text/plain": [
       "array([0, 1], dtype=int64)"
      ]
     },
     "execution_count": 10,
     "metadata": {},
     "output_type": "execute_result"
    }
   ],
   "source": [
    "stage_num = {'Ｊ１': 0, 'Ｊ２': 1}\n",
    "df_train['stage'] = df_train['stage'].map(stage_num)\n",
    "np.unique(df_train['stage'])"
   ]
  },
  {
   "cell_type": "markdown",
   "metadata": {},
   "source": [
    "time"
   ]
  },
  {
   "cell_type": "code",
   "execution_count": 11,
   "metadata": {
    "collapsed": true,
    "scrolled": true
   },
   "outputs": [],
   "source": [
    "# convert time into workingtime ()\n",
    "X_time = df_train.loc[:, ['time']].values\n",
    "X_time_num = np.zeros(X_time.size)\n",
    "for i in range(0,len(X_time),1):\n",
    "    temp = X_time[i,0].split(':')\n",
    "    X_time_num[i] = int(temp[0])"
   ]
  },
  {
   "cell_type": "code",
   "execution_count": 12,
   "metadata": {},
   "outputs": [
    {
     "data": {
      "text/plain": [
       "0    14.0\n",
       "1    14.0\n",
       "2    14.0\n",
       "3    14.0\n",
       "4    14.0\n",
       "5    14.0\n",
       "6    17.0\n",
       "7    19.0\n",
       "8    14.0\n",
       "9    14.0\n",
       "Name: time, dtype: float64"
      ]
     },
     "execution_count": 12,
     "metadata": {},
     "output_type": "execute_result"
    }
   ],
   "source": [
    "df_train['time'] = X_time_num\n",
    "df_train['time'].head(10)"
   ]
  },
  {
   "cell_type": "markdown",
   "metadata": {},
   "source": [
    "date"
   ]
  },
  {
   "cell_type": "code",
   "execution_count": 13,
   "metadata": {
    "collapsed": true
   },
   "outputs": [],
   "source": [
    "X_gameday = df_train['gameday'].values\n",
    "X_gameday_num = np.zeros(X_gameday.size)\n",
    "for i in range(0,len(X_gameday),1):\n",
    "    temp = X_gameday[i].split('(')\n",
    "    temp_2 = temp[1].split(')')\n",
    "    # print(len(temp_2[0])>2)\n",
    "    if len(temp_2[0])>2:\n",
    "        temp_3 = temp_2[0].split('・')\n",
    "        temp_2[0] = temp_3[1]\n",
    "    if (temp_2[0] == '土') or (temp_2[0] == '日') or (temp_2[0] == '祝'):\n",
    "        X_gameday_num[i] = 1\n",
    "    else: X_gameday_num[i] = 0"
   ]
  },
  {
   "cell_type": "code",
   "execution_count": 14,
   "metadata": {},
   "outputs": [
    {
     "data": {
      "text/plain": [
       "array([ 0.,  1.])"
      ]
     },
     "execution_count": 14,
     "metadata": {},
     "output_type": "execute_result"
    }
   ],
   "source": [
    "df_train['gameday'] = X_gameday_num\n",
    "np.unique(df_train['gameday'])"
   ]
  },
  {
   "cell_type": "code",
   "execution_count": 15,
   "metadata": {},
   "outputs": [
    {
     "data": {
      "text/html": [
       "<div>\n",
       "<style>\n",
       "    .dataframe thead tr:only-child th {\n",
       "        text-align: right;\n",
       "    }\n",
       "\n",
       "    .dataframe thead th {\n",
       "        text-align: left;\n",
       "    }\n",
       "\n",
       "    .dataframe tbody tr th {\n",
       "        vertical-align: top;\n",
       "    }\n",
       "</style>\n",
       "<table border=\"1\" class=\"dataframe\">\n",
       "  <thead>\n",
       "    <tr style=\"text-align: right;\">\n",
       "      <th></th>\n",
       "      <th>id</th>\n",
       "      <th>y</th>\n",
       "      <th>year</th>\n",
       "      <th>stage</th>\n",
       "      <th>match</th>\n",
       "      <th>gameday</th>\n",
       "      <th>time</th>\n",
       "      <th>home</th>\n",
       "      <th>away</th>\n",
       "      <th>stadium</th>\n",
       "      <th>...</th>\n",
       "      <th>away_02</th>\n",
       "      <th>away_03</th>\n",
       "      <th>away_04</th>\n",
       "      <th>away_05</th>\n",
       "      <th>away_06</th>\n",
       "      <th>away_07</th>\n",
       "      <th>away_08</th>\n",
       "      <th>away_09</th>\n",
       "      <th>away_10</th>\n",
       "      <th>away_11</th>\n",
       "    </tr>\n",
       "  </thead>\n",
       "  <tbody>\n",
       "    <tr>\n",
       "      <th>0</th>\n",
       "      <td>13994</td>\n",
       "      <td>18250</td>\n",
       "      <td>0</td>\n",
       "      <td>0</td>\n",
       "      <td>1.0</td>\n",
       "      <td>1.0</td>\n",
       "      <td>14.0</td>\n",
       "      <td>ベガルタ仙台</td>\n",
       "      <td>鹿島アントラーズ</td>\n",
       "      <td>ユアテックスタジアム仙台</td>\n",
       "      <td>...</td>\n",
       "      <td>新井場　徹</td>\n",
       "      <td>岩政　大樹</td>\n",
       "      <td>中田　浩二</td>\n",
       "      <td>アレックス</td>\n",
       "      <td>青木　剛</td>\n",
       "      <td>増田　誓志</td>\n",
       "      <td>小笠原　満男</td>\n",
       "      <td>本山　雅志</td>\n",
       "      <td>大迫　勇也</td>\n",
       "      <td>ジュニーニョ</td>\n",
       "    </tr>\n",
       "    <tr>\n",
       "      <th>1</th>\n",
       "      <td>13995</td>\n",
       "      <td>24316</td>\n",
       "      <td>0</td>\n",
       "      <td>0</td>\n",
       "      <td>1.0</td>\n",
       "      <td>1.0</td>\n",
       "      <td>14.0</td>\n",
       "      <td>名古屋グランパス</td>\n",
       "      <td>清水エスパルス</td>\n",
       "      <td>豊田スタジアム</td>\n",
       "      <td>...</td>\n",
       "      <td>吉田　豊</td>\n",
       "      <td>岩下　敬輔</td>\n",
       "      <td>カルフィン　ヨン　ア　ピン</td>\n",
       "      <td>李　記帝</td>\n",
       "      <td>村松　大輔</td>\n",
       "      <td>河井　陽介</td>\n",
       "      <td>枝村　匠馬</td>\n",
       "      <td>高木　俊幸</td>\n",
       "      <td>アレックス</td>\n",
       "      <td>大前　元紀</td>\n",
       "    </tr>\n",
       "    <tr>\n",
       "      <th>2</th>\n",
       "      <td>13996</td>\n",
       "      <td>17066</td>\n",
       "      <td>0</td>\n",
       "      <td>0</td>\n",
       "      <td>1.0</td>\n",
       "      <td>1.0</td>\n",
       "      <td>14.0</td>\n",
       "      <td>ガンバ大阪</td>\n",
       "      <td>ヴィッセル神戸</td>\n",
       "      <td>万博記念競技場</td>\n",
       "      <td>...</td>\n",
       "      <td>近藤　岳登</td>\n",
       "      <td>北本　久仁衛</td>\n",
       "      <td>伊野波　雅彦</td>\n",
       "      <td>相馬　崇人</td>\n",
       "      <td>三原　雅俊</td>\n",
       "      <td>田中　英雄</td>\n",
       "      <td>野沢　拓也</td>\n",
       "      <td>橋本　英郎</td>\n",
       "      <td>森岡　亮太</td>\n",
       "      <td>大久保　嘉人</td>\n",
       "    </tr>\n",
       "    <tr>\n",
       "      <th>3</th>\n",
       "      <td>13997</td>\n",
       "      <td>29603</td>\n",
       "      <td>0</td>\n",
       "      <td>0</td>\n",
       "      <td>1.0</td>\n",
       "      <td>1.0</td>\n",
       "      <td>14.0</td>\n",
       "      <td>サンフレッチェ広島</td>\n",
       "      <td>浦和レッズ</td>\n",
       "      <td>エディオンスタジアム広島</td>\n",
       "      <td>...</td>\n",
       "      <td>濱田　水輝</td>\n",
       "      <td>阿部　勇樹</td>\n",
       "      <td>槙野　智章</td>\n",
       "      <td>平川　忠亮</td>\n",
       "      <td>鈴木　啓太</td>\n",
       "      <td>山田　直輝</td>\n",
       "      <td>梅崎　司</td>\n",
       "      <td>柏木　陽介</td>\n",
       "      <td>原口　元気</td>\n",
       "      <td>田中　達也</td>\n",
       "    </tr>\n",
       "    <tr>\n",
       "      <th>4</th>\n",
       "      <td>13998</td>\n",
       "      <td>25353</td>\n",
       "      <td>0</td>\n",
       "      <td>0</td>\n",
       "      <td>1.0</td>\n",
       "      <td>1.0</td>\n",
       "      <td>14.0</td>\n",
       "      <td>コンサドーレ札幌</td>\n",
       "      <td>ジュビロ磐田</td>\n",
       "      <td>札幌ドーム</td>\n",
       "      <td>...</td>\n",
       "      <td>駒野　友一</td>\n",
       "      <td>チョ　ビョングク</td>\n",
       "      <td>藤田　義明</td>\n",
       "      <td>山本　脩斗</td>\n",
       "      <td>小林　裕紀</td>\n",
       "      <td>山本　康裕</td>\n",
       "      <td>山田　大記</td>\n",
       "      <td>松浦　拓弥</td>\n",
       "      <td>菅沼　実</td>\n",
       "      <td>前田　遼一</td>\n",
       "    </tr>\n",
       "    <tr>\n",
       "      <th>5</th>\n",
       "      <td>13999</td>\n",
       "      <td>11283</td>\n",
       "      <td>0</td>\n",
       "      <td>0</td>\n",
       "      <td>1.0</td>\n",
       "      <td>1.0</td>\n",
       "      <td>14.0</td>\n",
       "      <td>サガン鳥栖</td>\n",
       "      <td>セレッソ大阪</td>\n",
       "      <td>ベストアメニティスタジアム</td>\n",
       "      <td>...</td>\n",
       "      <td>茂庭　照幸</td>\n",
       "      <td>藤本　康太</td>\n",
       "      <td>丸橋　祐介</td>\n",
       "      <td>酒本　憲幸</td>\n",
       "      <td>扇原　貴宏</td>\n",
       "      <td>山口　螢</td>\n",
       "      <td>キム　ボギョン</td>\n",
       "      <td>清武　弘嗣</td>\n",
       "      <td>ブランキーニョ</td>\n",
       "      <td>ケンペス</td>\n",
       "    </tr>\n",
       "    <tr>\n",
       "      <th>6</th>\n",
       "      <td>14000</td>\n",
       "      <td>18920</td>\n",
       "      <td>0</td>\n",
       "      <td>0</td>\n",
       "      <td>1.0</td>\n",
       "      <td>1.0</td>\n",
       "      <td>17.0</td>\n",
       "      <td>川崎フロンターレ</td>\n",
       "      <td>アルビレックス新潟</td>\n",
       "      <td>等々力陸上競技場</td>\n",
       "      <td>...</td>\n",
       "      <td>三門　雄大</td>\n",
       "      <td>鈴木　大輔</td>\n",
       "      <td>大井　健太郎</td>\n",
       "      <td>金　珍洙</td>\n",
       "      <td>菊地　直哉</td>\n",
       "      <td>本間　勲</td>\n",
       "      <td>小谷野　顕治</td>\n",
       "      <td>アラン　ミネイロ</td>\n",
       "      <td>矢野　貴章</td>\n",
       "      <td>ブルーノ　ロペス</td>\n",
       "    </tr>\n",
       "    <tr>\n",
       "      <th>7</th>\n",
       "      <td>14001</td>\n",
       "      <td>11437</td>\n",
       "      <td>0</td>\n",
       "      <td>0</td>\n",
       "      <td>1.0</td>\n",
       "      <td>1.0</td>\n",
       "      <td>19.0</td>\n",
       "      <td>大宮アルディージャ</td>\n",
       "      <td>ＦＣ東京</td>\n",
       "      <td>ＮＡＣＫ５スタジアム大宮</td>\n",
       "      <td>...</td>\n",
       "      <td>徳永　悠平</td>\n",
       "      <td>森重　真人</td>\n",
       "      <td>加賀　健一</td>\n",
       "      <td>太田　宏介</td>\n",
       "      <td>高橋　秀人</td>\n",
       "      <td>梶山　陽平</td>\n",
       "      <td>羽生　直剛</td>\n",
       "      <td>長谷川　アーリアジャスール</td>\n",
       "      <td>谷澤　達也</td>\n",
       "      <td>ルーカス</td>\n",
       "    </tr>\n",
       "    <tr>\n",
       "      <th>8</th>\n",
       "      <td>14002</td>\n",
       "      <td>13082</td>\n",
       "      <td>0</td>\n",
       "      <td>0</td>\n",
       "      <td>1.0</td>\n",
       "      <td>1.0</td>\n",
       "      <td>14.0</td>\n",
       "      <td>柏レイソル</td>\n",
       "      <td>横浜Ｆ・マリノス</td>\n",
       "      <td>日立柏サッカー場</td>\n",
       "      <td>...</td>\n",
       "      <td>小林　祐三</td>\n",
       "      <td>栗原　勇蔵</td>\n",
       "      <td>中澤　佑二</td>\n",
       "      <td>金井　貢史</td>\n",
       "      <td>兵藤　慎剛</td>\n",
       "      <td>小椋　祥平</td>\n",
       "      <td>中村　俊輔</td>\n",
       "      <td>齋藤　学</td>\n",
       "      <td>小野　裕二</td>\n",
       "      <td>大黒　将志</td>\n",
       "    </tr>\n",
       "    <tr>\n",
       "      <th>9</th>\n",
       "      <td>14003</td>\n",
       "      <td>19010</td>\n",
       "      <td>0</td>\n",
       "      <td>0</td>\n",
       "      <td>2.0</td>\n",
       "      <td>1.0</td>\n",
       "      <td>14.0</td>\n",
       "      <td>鹿島アントラーズ</td>\n",
       "      <td>川崎フロンターレ</td>\n",
       "      <td>県立カシマサッカースタジアム</td>\n",
       "      <td>...</td>\n",
       "      <td>實藤　友紀</td>\n",
       "      <td>ジェシ</td>\n",
       "      <td>森下　俊</td>\n",
       "      <td>小宮山　尊信</td>\n",
       "      <td>中村　憲剛</td>\n",
       "      <td>柴崎　晃誠</td>\n",
       "      <td>田坂　祐介</td>\n",
       "      <td>山瀬　功治</td>\n",
       "      <td>レナト</td>\n",
       "      <td>小松　塁</td>\n",
       "    </tr>\n",
       "  </tbody>\n",
       "</table>\n",
       "<p>10 rows × 43 columns</p>\n",
       "</div>"
      ],
      "text/plain": [
       "      id      y  year  stage  match  gameday  time       home       away  \\\n",
       "0  13994  18250     0      0    1.0      1.0  14.0     ベガルタ仙台   鹿島アントラーズ   \n",
       "1  13995  24316     0      0    1.0      1.0  14.0   名古屋グランパス    清水エスパルス   \n",
       "2  13996  17066     0      0    1.0      1.0  14.0      ガンバ大阪    ヴィッセル神戸   \n",
       "3  13997  29603     0      0    1.0      1.0  14.0  サンフレッチェ広島      浦和レッズ   \n",
       "4  13998  25353     0      0    1.0      1.0  14.0   コンサドーレ札幌     ジュビロ磐田   \n",
       "5  13999  11283     0      0    1.0      1.0  14.0      サガン鳥栖     セレッソ大阪   \n",
       "6  14000  18920     0      0    1.0      1.0  17.0   川崎フロンターレ  アルビレックス新潟   \n",
       "7  14001  11437     0      0    1.0      1.0  19.0  大宮アルディージャ       ＦＣ東京   \n",
       "8  14002  13082     0      0    1.0      1.0  14.0      柏レイソル   横浜Ｆ・マリノス   \n",
       "9  14003  19010     0      0    2.0      1.0  14.0   鹿島アントラーズ   川崎フロンターレ   \n",
       "\n",
       "          stadium    ...    away_02   away_03        away_04  away_05  \\\n",
       "0    ユアテックスタジアム仙台    ...      新井場　徹     岩政　大樹          中田　浩二    アレックス   \n",
       "1         豊田スタジアム    ...       吉田　豊     岩下　敬輔  カルフィン　ヨン　ア　ピン     李　記帝   \n",
       "2         万博記念競技場    ...      近藤　岳登    北本　久仁衛         伊野波　雅彦    相馬　崇人   \n",
       "3    エディオンスタジアム広島    ...      濱田　水輝     阿部　勇樹          槙野　智章    平川　忠亮   \n",
       "4           札幌ドーム    ...      駒野　友一  チョ　ビョングク          藤田　義明    山本　脩斗   \n",
       "5   ベストアメニティスタジアム    ...      茂庭　照幸     藤本　康太          丸橋　祐介    酒本　憲幸   \n",
       "6        等々力陸上競技場    ...      三門　雄大     鈴木　大輔         大井　健太郎     金　珍洙   \n",
       "7    ＮＡＣＫ５スタジアム大宮    ...      徳永　悠平     森重　真人          加賀　健一    太田　宏介   \n",
       "8        日立柏サッカー場    ...      小林　祐三     栗原　勇蔵          中澤　佑二    金井　貢史   \n",
       "9  県立カシマサッカースタジアム    ...      實藤　友紀       ジェシ           森下　俊   小宮山　尊信   \n",
       "\n",
       "   away_06 away_07  away_08        away_09  away_10   away_11  \n",
       "0     青木　剛   増田　誓志   小笠原　満男          本山　雅志    大迫　勇也    ジュニーニョ  \n",
       "1    村松　大輔   河井　陽介    枝村　匠馬          高木　俊幸    アレックス     大前　元紀  \n",
       "2    三原　雅俊   田中　英雄    野沢　拓也          橋本　英郎    森岡　亮太    大久保　嘉人  \n",
       "3    鈴木　啓太   山田　直輝     梅崎　司          柏木　陽介    原口　元気     田中　達也  \n",
       "4    小林　裕紀   山本　康裕    山田　大記          松浦　拓弥     菅沼　実     前田　遼一  \n",
       "5    扇原　貴宏    山口　螢  キム　ボギョン          清武　弘嗣  ブランキーニョ      ケンペス  \n",
       "6    菊地　直哉    本間　勲   小谷野　顕治       アラン　ミネイロ    矢野　貴章  ブルーノ　ロペス  \n",
       "7    高橋　秀人   梶山　陽平    羽生　直剛  長谷川　アーリアジャスール    谷澤　達也      ルーカス  \n",
       "8    兵藤　慎剛   小椋　祥平    中村　俊輔           齋藤　学    小野　裕二     大黒　将志  \n",
       "9    中村　憲剛   柴崎　晃誠    田坂　祐介          山瀬　功治      レナト      小松　塁  \n",
       "\n",
       "[10 rows x 43 columns]"
      ]
     },
     "execution_count": 15,
     "metadata": {},
     "output_type": "execute_result"
    }
   ],
   "source": [
    "df_train.head(10)"
   ]
  },
  {
   "cell_type": "code",
   "execution_count": 16,
   "metadata": {},
   "outputs": [
    {
     "data": {
      "text/plain": [
       "Index(['id', 'y', 'year', 'stage', 'match', 'gameday', 'time', 'home', 'away',\n",
       "       'stadium', 'tv', 'address', 'capa', 'home_score', 'away_score',\n",
       "       'weather', 'temperature', 'humidity', 'referee', 'home_team', 'home_01',\n",
       "       'home_02', 'home_03', 'home_04', 'home_05', 'home_06', 'home_07',\n",
       "       'home_08', 'home_09', 'home_10', 'home_11', 'away_team', 'away_01',\n",
       "       'away_02', 'away_03', 'away_04', 'away_05', 'away_06', 'away_07',\n",
       "       'away_08', 'away_09', 'away_10', 'away_11'],\n",
       "      dtype='object')"
      ]
     },
     "execution_count": 16,
     "metadata": {},
     "output_type": "execute_result"
    }
   ],
   "source": [
    "df_train.columns"
   ]
  },
  {
   "cell_type": "code",
   "execution_count": 17,
   "metadata": {
    "scrolled": true
   },
   "outputs": [
    {
     "data": {
      "image/png": "[encoded data removed]",
      "text/plain": [
       "<matplotlib.figure.Figure at 0xb3777b8>"
      ]
     },
     "metadata": {},
     "output_type": "display_data"
    }
   ],
   "source": [
    "import seaborn as sns\n",
    "sns.pairplot(df_train.loc[:, ['y', 'year', 'stage', 'match', 'gameday', 'time']])\n",
    "plt.show()"
   ]
  },
  {
   "cell_type": "code",
   "execution_count": 17,
   "metadata": {
    "collapsed": true
   },
   "outputs": [],
   "source": [
    "X_train = df_train.loc[:, ['year', 'stage', 'match', 'gameday', 'time']].values\n",
    "y_train = df_train['y'].values"
   ]
  },
  {
   "cell_type": "code",
   "execution_count": 18,
   "metadata": {},
   "outputs": [
    {
     "data": {
      "text/plain": [
       "LinearRegression(copy_X=True, fit_intercept=True, n_jobs=1, normalize=False)"
      ]
     },
     "execution_count": 18,
     "metadata": {},
     "output_type": "execute_result"
    }
   ],
   "source": [
    "from sklearn.linear_model import LinearRegression\n",
    "lr = LinearRegression()\n",
    "lr.fit(X_train, y_train)"
   ]
  },
  {
   "cell_type": "code",
   "execution_count": 19,
   "metadata": {},
   "outputs": [
    {
     "name": "stdout",
     "output_type": "stream",
     "text": [
      "RMSE\n",
      "train: 5952.724\n"
     ]
    }
   ],
   "source": [
    "from sklearn.metrics import mean_squared_error as mse\n",
    "print('RMSE')\n",
    "print('train: %.3f' % (mse(y_train, lr.predict(X_train)) ** (1/2)))"
   ]
  },
  {
   "cell_type": "markdown",
   "metadata": {},
   "source": [
    "Test data"
   ]
  },
  {
   "cell_type": "code",
   "execution_count": 28,
   "metadata": {},
   "outputs": [],
   "source": [
    "df_test_r = pd.read_csv('test.csv')"
   ]
  },
  {
   "cell_type": "code",
   "execution_count": 42,
   "metadata": {},
   "outputs": [
    {
     "name": "stdout",
     "output_type": "stream",
     "text": [
      "Once deleted, variables cannot be recovered. Proceed (y/[n])?  y\n",
      "Once deleted, variables cannot be recovered. Proceed (y/[n])?  y\n",
      "Once deleted, variables cannot be recovered. Proceed (y/[n])?  y\n"
     ]
    }
   ],
   "source": [
    "df_test = df_test_r.loc[:,['id', 'year', 'stage', 'match', 'gameday', 'time']]\n",
    "df_test.columns\n",
    "\n",
    "# Year\n",
    "df_test['year'] = df_test['year'].map(year_num)\n",
    "\n",
    "# Stage\n",
    "df_test['stage'] = df_test['stage'].map(stage_num)\n",
    "\n",
    "# Match\n",
    "X_match_test = df_test.loc[:, ['match']].values\n",
    "X_match_test_num = np.zeros(X_match_test.size)\n",
    "%reset_selective temp\n",
    "for i in range(0,len(X_match_test),1):\n",
    "    temp = X_match_test[i,0].split('節')\n",
    "    temp_2 = temp[0].split('第')\n",
    "    X_match_test_num[i] = int(temp_2[1])\n",
    "df_test['match'] = X_match_test_num\n",
    "\n",
    "# Gameday\n",
    "X_gameday_test = df_test['gameday'].values\n",
    "X_gameday_test_num = np.zeros(X_gameday_test.size)\n",
    "%reset_selective temp\n",
    "for i in range(0,len(X_gameday_test),1):\n",
    "    temp = X_gameday_test[i].split('(')\n",
    "    temp_2 = temp[1].split(')')\n",
    "    if len(temp_2[0])>2:\n",
    "        temp_3 = temp_2[0].split('・')\n",
    "        temp_2[0] = temp_3[1]\n",
    "    if (temp_2[0] == '土') or (temp_2[0] == '日') or (temp_2[0] == '祝'):\n",
    "        X_gameday_test_num[i] = 1\n",
    "    else: X_gameday_test_num[i] = 0\n",
    "df_test['gameday'] = X_gameday_test_num\n",
    "\n",
    "# Time\n",
    "X_time_test = df_test['time'].values\n",
    "X_time_test_num = np.zeros(X_time_test.size)\n",
    "%reset_selective temp\n",
    "for i in range(0,len(X_time_test),1):\n",
    "    temp = X_time_test[i].split(':')\n",
    "    X_time_test_num[i] = int(temp[0])\n",
    "df_test['time'] = X_time_test_num"
   ]
  },
  {
   "cell_type": "code",
   "execution_count": 71,
   "metadata": {},
   "outputs": [],
   "source": [
    "X_test = df_test.drop('id', axis=1)\n",
    "id_list = df_test['id']\n",
    "y_test = lr.predict(X_test)"
   ]
  },
  {
   "cell_type": "code",
   "execution_count": 72,
   "metadata": {},
   "outputs": [
    {
     "data": {
      "text/plain": [
       "10629.558115719406"
      ]
     },
     "execution_count": 72,
     "metadata": {},
     "output_type": "execute_result"
    }
   ],
   "source": [
    "df_train['y'].mean()"
   ]
  },
  {
   "cell_type": "code",
   "execution_count": 82,
   "metadata": {},
   "outputs": [
    {
     "data": {
      "text/plain": [
       "(313,)"
      ]
     },
     "execution_count": 82,
     "metadata": {},
     "output_type": "execute_result"
    }
   ],
   "source": [
    "id_list.values.reshape(len(id_list),1)\n",
    "id_list.shape"
   ]
  },
  {
   "cell_type": "code",
   "execution_count": 110,
   "metadata": {
    "collapsed": true
   },
   "outputs": [],
   "source": [
    "df_output = pd.DataFrame(\n",
    "    {'id': id_list,\n",
    "     'est_y': y_test},\n",
    "    columns=['id', 'est_y']\n",
    ")"
   ]
  },
  {
   "cell_type": "code",
   "execution_count": 109,
   "metadata": {
    "scrolled": true
   },
   "outputs": [],
   "source": [
    "import csv\n",
    "with open('output_1.csv', 'w', newline='') as f:\n",
    "    wr = csv.writer(f)\n",
    "    wr.writerows(df_output.values)\n",
    "    f.close()\n",
    "\"\"\"\n",
    "with open('output.csv', 'w', newline='') as f:\n",
    "    wr = csv.writer(f, lineterminator='\\n')\n",
    "    for i in range(0,len(df_output),1):\n",
    "        wr.writerow(df_output.loc[i, ['id', 'est_y']])\n",
    "    f.close()\n",
    "\"\"\""
   ]
  },
  {
   "cell_type": "code",
   "execution_count": 111,
   "metadata": {
    "scrolled": false
   },
   "outputs": [],
   "source": []
  },
  {
   "cell_type": "code",
   "execution_count": null,
   "metadata": {
    "collapsed": true
   },
   "outputs": [],
   "source": []
  }
 ],
 "metadata": {
  "kernelspec": {
   "display_name": "Python 3",
   "language": "python",
   "name": "python3"
  },
  "language_info": {
   "codemirror_mode": {
    "name": "ipython",
    "version": 3
   },
   "file_extension": ".py",
   "mimetype": "text/x-python",
   "name": "python",
   "nbconvert_exporter": "python",
   "pygments_lexer": "ipython3",
   "version": "3.6.3"
  }
 },
 "nbformat": 4,
 "nbformat_minor": 2
}
